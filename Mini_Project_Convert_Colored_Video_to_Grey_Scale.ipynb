{
  "nbformat": 4,
  "nbformat_minor": 0,
  "metadata": {
    "colab": {
      "provenance": [],
      "authorship_tag": "ABX9TyPtJbS2+J6aqI8jjuleKzoY",
      "include_colab_link": true
    },
    "kernelspec": {
      "name": "python3",
      "display_name": "Python 3"
    },
    "language_info": {
      "name": "python"
    }
  },
  "cells": [
    {
      "cell_type": "markdown",
      "metadata": {
        "id": "view-in-github",
        "colab_type": "text"
      },
      "source": [
        "<a href=\"https://colab.research.google.com/github/NishitMittal2004/Mini_Project-Convert_Colored_Video_to_Grey_Scale/blob/main/Mini_Project_Convert_Colored_Video_to_Grey_Scale.ipynb\" target=\"_parent\"><img src=\"https://colab.research.google.com/assets/colab-badge.svg\" alt=\"Open In Colab\"/></a>"
      ]
    },
    {
      "cell_type": "markdown",
      "source": [
        "# **Mini Project - \"Convert Colored Video to Grey Scale (b/w)\" using OpenCV**"
      ],
      "metadata": {
        "id": "1FVsynqP031w"
      }
    },
    {
      "cell_type": "code",
      "execution_count": 4,
      "metadata": {
        "id": "ZuvbLfOT03Yq"
      },
      "outputs": [],
      "source": [
        "import cv2\n",
        "\n",
        "input_file = '/content/Original_Video.mp4'\n",
        "output_file = '/content/Output_Gray.mp4'\n",
        "\n",
        "# Open the input video file\n",
        "video = cv2.VideoCapture(input_file)\n",
        "\n",
        "# Get the video's width, height, and frames per second (fps)\n",
        "width = int(video.get(cv2.CAP_PROP_FRAME_WIDTH))\n",
        "height = int(video.get(cv2.CAP_PROP_FRAME_HEIGHT))\n",
        "fps = video.get(cv2.CAP_PROP_FPS)\n",
        "\n",
        "# Define the codec for the output video\n",
        "fourcc = cv2.VideoWriter_fourcc(*'mp4v')\n",
        "\n",
        "# Create a VideoWriter object to save the output video\n",
        "output = cv2.VideoWriter(output_file, fourcc, fps, (width, height), isColor=False)\n",
        "\n",
        "# Process each frame of the input video\n",
        "while video.isOpened():\n",
        "    # Read the current frame\n",
        "    ret, frame = video.read()\n",
        "\n",
        "    if ret:\n",
        "        # Convert the frame to grayscale\n",
        "        gray_frame = cv2.cvtColor(frame, cv2.COLOR_BGR2GRAY)\n",
        "\n",
        "        # Write the grayscale frame to the output video\n",
        "        output.write(gray_frame)\n",
        "\n",
        "        # Exit if the 'q' key is pressed\n",
        "        if cv2.waitKey(1) & 0xFF == ord('q'):\n",
        "            break\n",
        "    else:\n",
        "        break\n",
        "\n",
        "# Release the video capture and writer objects\n",
        "video.release()\n",
        "output.release()\n",
        "\n",
        "# Close all OpenCV windows\n",
        "cv2.destroyAllWindows()"
      ]
    }
  ]
}